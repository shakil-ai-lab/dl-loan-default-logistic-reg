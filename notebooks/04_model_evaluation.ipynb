{
 "cells": [
  {
   "cell_type": "code",
   "execution_count": 1,
   "id": "4d9fd459-e7c9-4906-a06b-6738ead8446e",
   "metadata": {},
   "outputs": [],
   "source": [
    "import joblib\n",
    "from sklearn.metrics import classification_report, roc_curve, confusion_matrix\n",
    "import pandas as pd\n",
    "import optuna\n",
    "from sklearn.model_selection import train_test_split\n",
    "from sklearn.compose import ColumnTransformer\n",
    "from sklearn.preprocessing import StandardScaler, OneHotEncoder, OrdinalEncoder\n",
    "from sklearn.linear_model import LogisticRegression\n",
    "from sklearn.ensemble import RandomForestClassifier\n",
    "import xgboost as xgb\n",
    "from sklearn.metrics import f1_score, recall_score, precision_score\n",
    "from imblearn.pipeline import Pipeline as imPipeline\n",
    "from imblearn.over_sampling import ADASYN\n",
    "import warnings\n",
    "warnings.filterwarnings(\"ignore\")"
   ]
  },
  {
   "cell_type": "code",
   "execution_count": 2,
   "id": "65bda213-a531-49a0-b738-e0630e80ae43",
   "metadata": {},
   "outputs": [],
   "source": [
    "X_train = joblib.load(\"../src/X_train.pkl\")\n",
    "X_test = joblib.load(\"../src/X_test.pkl\")\n",
    "y_train = joblib.load(\"../src/y_train.pkl\")\n",
    "y_test = joblib.load(\"../src/y_test.pkl\")"
   ]
  },
  {
   "cell_type": "code",
   "execution_count": null,
   "id": "b066e3ea-b4b8-4bf7-8f56-f7d3cf9de694",
   "metadata": {},
   "outputs": [],
   "source": [
    "final_pipeline = joblib.load(\"final_pipeline.pkl\")"
   ]
  },
  {
   "cell_type": "code",
   "execution_count": null,
   "id": "1838084c-6712-453b-9ecb-3c0bccaf23f8",
   "metadata": {},
   "outputs": [],
   "source": [
    "# prediction for best model\n",
    "y_pred = final_pipeline.predict(X_test)"
   ]
  },
  {
   "cell_type": "code",
   "execution_count": null,
   "id": "37ee4619-690c-4de0-b8a7-abf31532a0ba",
   "metadata": {},
   "outputs": [],
   "source": [
    "# classification report\n",
    "print(classification_report(y_test, y_pred))"
   ]
  },
  {
   "cell_type": "code",
   "execution_count": null,
   "id": "7fb7adf7-15cd-4cfa-bdab-4575e751fc03",
   "metadata": {},
   "outputs": [],
   "source": [
    "# confusion matrix\n",
    "confusion_matrix()"
   ]
  },
  {
   "cell_type": "code",
   "execution_count": null,
   "id": "33ca5b84-4d87-4d92-af46-1d06eae59f0f",
   "metadata": {},
   "outputs": [],
   "source": [
    "# Roc Curve\n"
   ]
  },
  {
   "cell_type": "code",
   "execution_count": 3,
   "id": "b86c6ddf-1e32-422c-b33f-90f24b295fc7",
   "metadata": {},
   "outputs": [],
   "source": [
    "encoding = joblib.load(\"../src/encoder.pkl\")\n",
    "scaling = joblib.load(\"../src/scaler.pkl\")"
   ]
  },
  {
   "cell_type": "code",
   "execution_count": 4,
   "id": "e5d29e94-80ae-479d-b5f1-0ad49d11a4a4",
   "metadata": {},
   "outputs": [],
   "source": [
    "best_model = LogisticRegression( max_iter=1000)\n",
    "\n",
    "pipeline = imPipeline([\n",
    "        (\"encoding\", encoding),\n",
    "        (\"adasyn\", ADASYN(random_state=42)),\n",
    "        (\"scaling\", scaling),\n",
    "        (\"classifier\", best_model)\n",
    "    ])\n",
    "pipeline.fit(X_train, y_train)\n",
    "y_pred = pipeline.predict(X_test)\n",
    "precision = precision_score(y_test, y_pred, pos_label=1)\n",
    "recall = recall_score(y_test, y_pred, pos_label=1)\n",
    "f1 = f1_score(y_test, y_pred, pos_label=1)"
   ]
  },
  {
   "cell_type": "code",
   "execution_count": 11,
   "id": "12f13c49-f654-4e99-a7ca-f0d3e2022a14",
   "metadata": {},
   "outputs": [
    {
     "name": "stdout",
     "output_type": "stream",
     "text": [
      "0.21674997378447342 0.6948677722994173 0.33042922228438976\n"
     ]
    }
   ],
   "source": [
    "print(precision, recall, f1)"
   ]
  },
  {
   "cell_type": "code",
   "execution_count": 13,
   "id": "ceab7896-a7e2-4810-b305-bed1dbbb0327",
   "metadata": {},
   "outputs": [
    {
     "name": "stdout",
     "output_type": "stream",
     "text": [
      "0.21678492781991682 0.6949798296727925 0.33048250872565477\n"
     ]
    }
   ],
   "source": [
    "print(precision, recall, f1)"
   ]
  },
  {
   "cell_type": "code",
   "execution_count": 5,
   "id": "a91124c8-cc3f-4233-b0ff-3f332fef8c8c",
   "metadata": {},
   "outputs": [
    {
     "name": "stdout",
     "output_type": "stream",
     "text": [
      "0.21678492781991682 0.6949798296727925 0.33048250872565477\n"
     ]
    }
   ],
   "source": [
    "print(precision, recall, f1)"
   ]
  },
  {
   "cell_type": "code",
   "execution_count": null,
   "id": "25e8545a-c1b1-4a79-9a9e-e4b492671a01",
   "metadata": {},
   "outputs": [],
   "source": []
  }
 ],
 "metadata": {
  "kernelspec": {
   "display_name": "Python 3 (ipykernel)",
   "language": "python",
   "name": "python3"
  },
  "language_info": {
   "codemirror_mode": {
    "name": "ipython",
    "version": 3
   },
   "file_extension": ".py",
   "mimetype": "text/x-python",
   "name": "python",
   "nbconvert_exporter": "python",
   "pygments_lexer": "ipython3",
   "version": "3.11.7"
  },
  "widgets": {
   "application/vnd.jupyter.widget-state+json": {
    "state": {},
    "version_major": 2,
    "version_minor": 0
   }
  }
 },
 "nbformat": 4,
 "nbformat_minor": 5
}
