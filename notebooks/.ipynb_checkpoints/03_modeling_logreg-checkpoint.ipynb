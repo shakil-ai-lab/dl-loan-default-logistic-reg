{
 "cells": [
  {
   "cell_type": "code",
   "execution_count": 17,
   "id": "499ff95e-04e0-475d-8fbc-7bf4ac0f9620",
   "metadata": {},
   "outputs": [],
   "source": [
    "import joblib\n",
    "import pandas as pd\n",
    "import optuna\n",
    "from sklearn.model_selection import train_test_split\n",
    "from sklearn.compose import ColumnTransformer\n",
    "from sklearn.preprocessing import StandardScaler, OneHotEncoder, OrdinalEncoder\n",
    "from sklearn.linear_model import LogisticRegression\n",
    "from sklearn.ensemble import RandomForestClassifier\n",
    "import xgboost as xgb\n",
    "from sklearn.metrics import f1_score, recall_score, precision_score\n",
    "from imblearn.pipeline import Pipeline as imPipeline\n",
    "from imblearn.over_sampling import ADASYN\n",
    "import warnings\n",
    "warnings.filterwarnings(\"ignore\")"
   ]
  },
  {
   "cell_type": "code",
   "execution_count": 28,
   "id": "3bb38f39-fe44-45d8-b37e-f4734cd2c208",
   "metadata": {},
   "outputs": [],
   "source": [
    "# ! pip install optuna\n",
    "# ! pip install xgboost"
   ]
  },
  {
   "cell_type": "code",
   "execution_count": 7,
   "id": "1415a409-300b-497b-95fa-ddcbcb462ed9",
   "metadata": {},
   "outputs": [
    {
     "data": {
      "text/html": [
       "<div>\n",
       "<style scoped>\n",
       "    .dataframe tbody tr th:only-of-type {\n",
       "        vertical-align: middle;\n",
       "    }\n",
       "\n",
       "    .dataframe tbody tr th {\n",
       "        vertical-align: top;\n",
       "    }\n",
       "\n",
       "    .dataframe thead th {\n",
       "        text-align: right;\n",
       "    }\n",
       "</style>\n",
       "<table border=\"1\" class=\"dataframe\">\n",
       "  <thead>\n",
       "    <tr style=\"text-align: right;\">\n",
       "      <th></th>\n",
       "      <th>Age</th>\n",
       "      <th>Income</th>\n",
       "      <th>LoanAmount</th>\n",
       "      <th>CreditScore</th>\n",
       "      <th>MonthsEmployed</th>\n",
       "      <th>NumCreditLines</th>\n",
       "      <th>InterestRate</th>\n",
       "      <th>LoanTerm</th>\n",
       "      <th>DTIRatio</th>\n",
       "      <th>Education</th>\n",
       "      <th>EmploymentType</th>\n",
       "      <th>MaritalStatus</th>\n",
       "      <th>HasMortgage</th>\n",
       "      <th>HasDependents</th>\n",
       "      <th>LoanPurpose</th>\n",
       "      <th>HasCoSigner</th>\n",
       "      <th>Default</th>\n",
       "    </tr>\n",
       "  </thead>\n",
       "  <tbody>\n",
       "    <tr>\n",
       "      <th>0</th>\n",
       "      <td>56</td>\n",
       "      <td>85994</td>\n",
       "      <td>50587</td>\n",
       "      <td>520</td>\n",
       "      <td>80</td>\n",
       "      <td>4</td>\n",
       "      <td>15.23</td>\n",
       "      <td>36</td>\n",
       "      <td>0.44</td>\n",
       "      <td>Bachelor's</td>\n",
       "      <td>Full-time</td>\n",
       "      <td>Divorced</td>\n",
       "      <td>Yes</td>\n",
       "      <td>Yes</td>\n",
       "      <td>Other</td>\n",
       "      <td>Yes</td>\n",
       "      <td>0</td>\n",
       "    </tr>\n",
       "  </tbody>\n",
       "</table>\n",
       "</div>"
      ],
      "text/plain": [
       "   Age  Income  LoanAmount  CreditScore  MonthsEmployed  NumCreditLines  \\\n",
       "0   56   85994       50587          520              80               4   \n",
       "\n",
       "   InterestRate  LoanTerm  DTIRatio   Education EmploymentType MaritalStatus  \\\n",
       "0         15.23        36      0.44  Bachelor's      Full-time      Divorced   \n",
       "\n",
       "  HasMortgage HasDependents LoanPurpose HasCoSigner  Default  \n",
       "0         Yes           Yes       Other         Yes        0  "
      ]
     },
     "execution_count": 7,
     "metadata": {},
     "output_type": "execute_result"
    }
   ],
   "source": [
    "# load cleaned dataset\n",
    "df = joblib.load(\"../src/cleaned_loan_df.pkl\")\n",
    "df.head(1)"
   ]
  },
  {
   "cell_type": "code",
   "execution_count": 8,
   "id": "4c0d4651-10c2-40ef-a2c5-43d5cb168b37",
   "metadata": {},
   "outputs": [],
   "source": [
    "X = df.drop(\"Default\", axis=1)\n",
    "y = df[\"Default\"]"
   ]
  },
  {
   "cell_type": "code",
   "execution_count": 33,
   "id": "459e64f4-54aa-4f57-a0fd-999cde4964e8",
   "metadata": {},
   "outputs": [],
   "source": [
    "X_train, X_test, y_train, y_test = train_test_split(X, y , test_size=0.3, random_state=42)"
   ]
  },
  {
   "cell_type": "code",
   "execution_count": 34,
   "id": "ca5a0ead-b314-43b7-8325-247d8183ba5f",
   "metadata": {},
   "outputs": [
    {
     "data": {
      "text/plain": [
       "['../src/y_test.pkl']"
      ]
     },
     "execution_count": 34,
     "metadata": {},
     "output_type": "execute_result"
    }
   ],
   "source": [
    "joblib.dump(X_train, \"../src/X_train.pkl\")\n",
    "joblib.dump(X_test, \"../src/X_test.pkl\")\n",
    "joblib.dump(y_train, \"../src/y_train.pkl\")\n",
    "joblib.dump(y_test, \"../src/y_test.pkl\")"
   ]
  },
  {
   "cell_type": "code",
   "execution_count": 39,
   "id": "f1c7a675-3b5d-4e97-9dc0-89f52e9d289b",
   "metadata": {},
   "outputs": [],
   "source": [
    "# X_test"
   ]
  },
  {
   "cell_type": "code",
   "execution_count": 30,
   "id": "175daa14-ae90-4198-bb48-84c31d14d44e",
   "metadata": {},
   "outputs": [],
   "source": [
    "# load column transformer\n",
    "encoding = joblib.load(\"../src/encoder.pkl\")\n",
    "# scaling = joblib.load(\"../src/scaler.pkl\")"
   ]
  },
  {
   "cell_type": "code",
   "execution_count": 45,
   "id": "abe8968d-1777-496e-9dcf-4e0688575bf1",
   "metadata": {},
   "outputs": [],
   "source": [
    "scaling = ColumnTransformer([\n",
    "    (\"scale\", StandardScaler(), slice(0, len(features_dict[\"numeric_features\"])))\n",
    "], remainder=\"passthrough\")"
   ]
  },
  {
   "cell_type": "code",
   "execution_count": 42,
   "id": "2a1a5305-613e-446d-bc7f-9f371030f3d9",
   "metadata": {},
   "outputs": [],
   "source": [
    "# 3 load features dictinoary\n",
    "features_dict = joblib.load(\"../src/features_config.pkl\")"
   ]
  },
  {
   "cell_type": "code",
   "execution_count": 31,
   "id": "ed08e66f-2ff9-4431-9791-2ddb1e796a84",
   "metadata": {},
   "outputs": [
    {
     "data": {
      "text/html": [
       "<style>#sk-container-id-1 {color: black;background-color: white;}#sk-container-id-1 pre{padding: 0;}#sk-container-id-1 div.sk-toggleable {background-color: white;}#sk-container-id-1 label.sk-toggleable__label {cursor: pointer;display: block;width: 100%;margin-bottom: 0;padding: 0.3em;box-sizing: border-box;text-align: center;}#sk-container-id-1 label.sk-toggleable__label-arrow:before {content: \"▸\";float: left;margin-right: 0.25em;color: #696969;}#sk-container-id-1 label.sk-toggleable__label-arrow:hover:before {color: black;}#sk-container-id-1 div.sk-estimator:hover label.sk-toggleable__label-arrow:before {color: black;}#sk-container-id-1 div.sk-toggleable__content {max-height: 0;max-width: 0;overflow: hidden;text-align: left;background-color: #f0f8ff;}#sk-container-id-1 div.sk-toggleable__content pre {margin: 0.2em;color: black;border-radius: 0.25em;background-color: #f0f8ff;}#sk-container-id-1 input.sk-toggleable__control:checked~div.sk-toggleable__content {max-height: 200px;max-width: 100%;overflow: auto;}#sk-container-id-1 input.sk-toggleable__control:checked~label.sk-toggleable__label-arrow:before {content: \"▾\";}#sk-container-id-1 div.sk-estimator input.sk-toggleable__control:checked~label.sk-toggleable__label {background-color: #d4ebff;}#sk-container-id-1 div.sk-label input.sk-toggleable__control:checked~label.sk-toggleable__label {background-color: #d4ebff;}#sk-container-id-1 input.sk-hidden--visually {border: 0;clip: rect(1px 1px 1px 1px);clip: rect(1px, 1px, 1px, 1px);height: 1px;margin: -1px;overflow: hidden;padding: 0;position: absolute;width: 1px;}#sk-container-id-1 div.sk-estimator {font-family: monospace;background-color: #f0f8ff;border: 1px dotted black;border-radius: 0.25em;box-sizing: border-box;margin-bottom: 0.5em;}#sk-container-id-1 div.sk-estimator:hover {background-color: #d4ebff;}#sk-container-id-1 div.sk-parallel-item::after {content: \"\";width: 100%;border-bottom: 1px solid gray;flex-grow: 1;}#sk-container-id-1 div.sk-label:hover label.sk-toggleable__label {background-color: #d4ebff;}#sk-container-id-1 div.sk-serial::before {content: \"\";position: absolute;border-left: 1px solid gray;box-sizing: border-box;top: 0;bottom: 0;left: 50%;z-index: 0;}#sk-container-id-1 div.sk-serial {display: flex;flex-direction: column;align-items: center;background-color: white;padding-right: 0.2em;padding-left: 0.2em;position: relative;}#sk-container-id-1 div.sk-item {position: relative;z-index: 1;}#sk-container-id-1 div.sk-parallel {display: flex;align-items: stretch;justify-content: center;background-color: white;position: relative;}#sk-container-id-1 div.sk-item::before, #sk-container-id-1 div.sk-parallel-item::before {content: \"\";position: absolute;border-left: 1px solid gray;box-sizing: border-box;top: 0;bottom: 0;left: 50%;z-index: -1;}#sk-container-id-1 div.sk-parallel-item {display: flex;flex-direction: column;z-index: 1;position: relative;background-color: white;}#sk-container-id-1 div.sk-parallel-item:first-child::after {align-self: flex-end;width: 50%;}#sk-container-id-1 div.sk-parallel-item:last-child::after {align-self: flex-start;width: 50%;}#sk-container-id-1 div.sk-parallel-item:only-child::after {width: 0;}#sk-container-id-1 div.sk-dashed-wrapped {border: 1px dashed gray;margin: 0 0.4em 0.5em 0.4em;box-sizing: border-box;padding-bottom: 0.4em;background-color: white;}#sk-container-id-1 div.sk-label label {font-family: monospace;font-weight: bold;display: inline-block;line-height: 1.2em;}#sk-container-id-1 div.sk-label-container {text-align: center;}#sk-container-id-1 div.sk-container {/* jupyter's `normalize.less` sets `[hidden] { display: none; }` but bootstrap.min.css set `[hidden] { display: none !important; }` so we also need the `!important` here to be able to override the default hidden behavior on the sphinx rendered scikit-learn.org. See: https://github.com/scikit-learn/scikit-learn/issues/21755 */display: inline-block !important;position: relative;}#sk-container-id-1 div.sk-text-repr-fallback {display: none;}</style><div id=\"sk-container-id-1\" class=\"sk-top-container\"><div class=\"sk-text-repr-fallback\"><pre>ColumnTransformer(transformers=[(&#x27;cat&#x27;, OneHotEncoder(drop=&#x27;first&#x27;),\n",
       "                                 [&#x27;EmploymentType&#x27;, &#x27;MaritalStatus&#x27;,\n",
       "                                  &#x27;LoanPurpose&#x27;]),\n",
       "                                (&#x27;bin&#x27;,\n",
       "                                 OrdinalEncoder(categories=[[&#x27;No&#x27;, &#x27;Yes&#x27;],\n",
       "                                                            [&#x27;No&#x27;, &#x27;Yes&#x27;],\n",
       "                                                            [&#x27;No&#x27;, &#x27;Yes&#x27;]]),\n",
       "                                 [&#x27;HasCoSigner&#x27;, &#x27;HasMortgage&#x27;,\n",
       "                                  &#x27;HasDependents&#x27;]),\n",
       "                                (&#x27;ord&#x27;,\n",
       "                                 OrdinalEncoder(categories=[[&#x27;High School&#x27;,\n",
       "                                                             &quot;Bachelor&#x27;s&quot;,\n",
       "                                                             &quot;Master&#x27;s&quot;,\n",
       "                                                             &#x27;PhD&#x27;]]),\n",
       "                                 [&#x27;Education&#x27;]),\n",
       "                                (&#x27;num&#x27;, &#x27;passthrough&#x27;,\n",
       "                                 [&#x27;Age&#x27;, &#x27;Income&#x27;, &#x27;LoanAmount&#x27;, &#x27;CreditScore&#x27;,\n",
       "                                  &#x27;MonthsEmployed&#x27;, &#x27;NumCreditLines&#x27;,\n",
       "                                  &#x27;InterestRate&#x27;, &#x27;LoanTerm&#x27;, &#x27;DTIRatio&#x27;])])</pre><b>In a Jupyter environment, please rerun this cell to show the HTML representation or trust the notebook. <br />On GitHub, the HTML representation is unable to render, please try loading this page with nbviewer.org.</b></div><div class=\"sk-container\" hidden><div class=\"sk-item sk-dashed-wrapped\"><div class=\"sk-label-container\"><div class=\"sk-label sk-toggleable\"><input class=\"sk-toggleable__control sk-hidden--visually\" id=\"sk-estimator-id-1\" type=\"checkbox\" ><label for=\"sk-estimator-id-1\" class=\"sk-toggleable__label sk-toggleable__label-arrow\">ColumnTransformer</label><div class=\"sk-toggleable__content\"><pre>ColumnTransformer(transformers=[(&#x27;cat&#x27;, OneHotEncoder(drop=&#x27;first&#x27;),\n",
       "                                 [&#x27;EmploymentType&#x27;, &#x27;MaritalStatus&#x27;,\n",
       "                                  &#x27;LoanPurpose&#x27;]),\n",
       "                                (&#x27;bin&#x27;,\n",
       "                                 OrdinalEncoder(categories=[[&#x27;No&#x27;, &#x27;Yes&#x27;],\n",
       "                                                            [&#x27;No&#x27;, &#x27;Yes&#x27;],\n",
       "                                                            [&#x27;No&#x27;, &#x27;Yes&#x27;]]),\n",
       "                                 [&#x27;HasCoSigner&#x27;, &#x27;HasMortgage&#x27;,\n",
       "                                  &#x27;HasDependents&#x27;]),\n",
       "                                (&#x27;ord&#x27;,\n",
       "                                 OrdinalEncoder(categories=[[&#x27;High School&#x27;,\n",
       "                                                             &quot;Bachelor&#x27;s&quot;,\n",
       "                                                             &quot;Master&#x27;s&quot;,\n",
       "                                                             &#x27;PhD&#x27;]]),\n",
       "                                 [&#x27;Education&#x27;]),\n",
       "                                (&#x27;num&#x27;, &#x27;passthrough&#x27;,\n",
       "                                 [&#x27;Age&#x27;, &#x27;Income&#x27;, &#x27;LoanAmount&#x27;, &#x27;CreditScore&#x27;,\n",
       "                                  &#x27;MonthsEmployed&#x27;, &#x27;NumCreditLines&#x27;,\n",
       "                                  &#x27;InterestRate&#x27;, &#x27;LoanTerm&#x27;, &#x27;DTIRatio&#x27;])])</pre></div></div></div><div class=\"sk-parallel\"><div class=\"sk-parallel-item\"><div class=\"sk-item\"><div class=\"sk-label-container\"><div class=\"sk-label sk-toggleable\"><input class=\"sk-toggleable__control sk-hidden--visually\" id=\"sk-estimator-id-2\" type=\"checkbox\" ><label for=\"sk-estimator-id-2\" class=\"sk-toggleable__label sk-toggleable__label-arrow\">cat</label><div class=\"sk-toggleable__content\"><pre>[&#x27;EmploymentType&#x27;, &#x27;MaritalStatus&#x27;, &#x27;LoanPurpose&#x27;]</pre></div></div></div><div class=\"sk-serial\"><div class=\"sk-item\"><div class=\"sk-estimator sk-toggleable\"><input class=\"sk-toggleable__control sk-hidden--visually\" id=\"sk-estimator-id-3\" type=\"checkbox\" ><label for=\"sk-estimator-id-3\" class=\"sk-toggleable__label sk-toggleable__label-arrow\">OneHotEncoder</label><div class=\"sk-toggleable__content\"><pre>OneHotEncoder(drop=&#x27;first&#x27;)</pre></div></div></div></div></div></div><div class=\"sk-parallel-item\"><div class=\"sk-item\"><div class=\"sk-label-container\"><div class=\"sk-label sk-toggleable\"><input class=\"sk-toggleable__control sk-hidden--visually\" id=\"sk-estimator-id-4\" type=\"checkbox\" ><label for=\"sk-estimator-id-4\" class=\"sk-toggleable__label sk-toggleable__label-arrow\">bin</label><div class=\"sk-toggleable__content\"><pre>[&#x27;HasCoSigner&#x27;, &#x27;HasMortgage&#x27;, &#x27;HasDependents&#x27;]</pre></div></div></div><div class=\"sk-serial\"><div class=\"sk-item\"><div class=\"sk-estimator sk-toggleable\"><input class=\"sk-toggleable__control sk-hidden--visually\" id=\"sk-estimator-id-5\" type=\"checkbox\" ><label for=\"sk-estimator-id-5\" class=\"sk-toggleable__label sk-toggleable__label-arrow\">OrdinalEncoder</label><div class=\"sk-toggleable__content\"><pre>OrdinalEncoder(categories=[[&#x27;No&#x27;, &#x27;Yes&#x27;], [&#x27;No&#x27;, &#x27;Yes&#x27;], [&#x27;No&#x27;, &#x27;Yes&#x27;]])</pre></div></div></div></div></div></div><div class=\"sk-parallel-item\"><div class=\"sk-item\"><div class=\"sk-label-container\"><div class=\"sk-label sk-toggleable\"><input class=\"sk-toggleable__control sk-hidden--visually\" id=\"sk-estimator-id-6\" type=\"checkbox\" ><label for=\"sk-estimator-id-6\" class=\"sk-toggleable__label sk-toggleable__label-arrow\">ord</label><div class=\"sk-toggleable__content\"><pre>[&#x27;Education&#x27;]</pre></div></div></div><div class=\"sk-serial\"><div class=\"sk-item\"><div class=\"sk-estimator sk-toggleable\"><input class=\"sk-toggleable__control sk-hidden--visually\" id=\"sk-estimator-id-7\" type=\"checkbox\" ><label for=\"sk-estimator-id-7\" class=\"sk-toggleable__label sk-toggleable__label-arrow\">OrdinalEncoder</label><div class=\"sk-toggleable__content\"><pre>OrdinalEncoder(categories=[[&#x27;High School&#x27;, &quot;Bachelor&#x27;s&quot;, &quot;Master&#x27;s&quot;, &#x27;PhD&#x27;]])</pre></div></div></div></div></div></div><div class=\"sk-parallel-item\"><div class=\"sk-item\"><div class=\"sk-label-container\"><div class=\"sk-label sk-toggleable\"><input class=\"sk-toggleable__control sk-hidden--visually\" id=\"sk-estimator-id-8\" type=\"checkbox\" ><label for=\"sk-estimator-id-8\" class=\"sk-toggleable__label sk-toggleable__label-arrow\">num</label><div class=\"sk-toggleable__content\"><pre>[&#x27;Age&#x27;, &#x27;Income&#x27;, &#x27;LoanAmount&#x27;, &#x27;CreditScore&#x27;, &#x27;MonthsEmployed&#x27;, &#x27;NumCreditLines&#x27;, &#x27;InterestRate&#x27;, &#x27;LoanTerm&#x27;, &#x27;DTIRatio&#x27;]</pre></div></div></div><div class=\"sk-serial\"><div class=\"sk-item\"><div class=\"sk-estimator sk-toggleable\"><input class=\"sk-toggleable__control sk-hidden--visually\" id=\"sk-estimator-id-9\" type=\"checkbox\" ><label for=\"sk-estimator-id-9\" class=\"sk-toggleable__label sk-toggleable__label-arrow\">passthrough</label><div class=\"sk-toggleable__content\"><pre>passthrough</pre></div></div></div></div></div></div></div></div></div></div>"
      ],
      "text/plain": [
       "ColumnTransformer(transformers=[('cat', OneHotEncoder(drop='first'),\n",
       "                                 ['EmploymentType', 'MaritalStatus',\n",
       "                                  'LoanPurpose']),\n",
       "                                ('bin',\n",
       "                                 OrdinalEncoder(categories=[['No', 'Yes'],\n",
       "                                                            ['No', 'Yes'],\n",
       "                                                            ['No', 'Yes']]),\n",
       "                                 ['HasCoSigner', 'HasMortgage',\n",
       "                                  'HasDependents']),\n",
       "                                ('ord',\n",
       "                                 OrdinalEncoder(categories=[['High School',\n",
       "                                                             \"Bachelor's\",\n",
       "                                                             \"Master's\",\n",
       "                                                             'PhD']]),\n",
       "                                 ['Education']),\n",
       "                                ('num', 'passthrough',\n",
       "                                 ['Age', 'Income', 'LoanAmount', 'CreditScore',\n",
       "                                  'MonthsEmployed', 'NumCreditLines',\n",
       "                                  'InterestRate', 'LoanTerm', 'DTIRatio'])])"
      ]
     },
     "execution_count": 31,
     "metadata": {},
     "output_type": "execute_result"
    }
   ],
   "source": [
    "encoding"
   ]
  },
  {
   "cell_type": "code",
   "execution_count": 44,
   "id": "e046d2ca-50d8-45ad-a08a-16875cfe9891",
   "metadata": {},
   "outputs": [
    {
     "data": {
      "text/plain": [
       "['Age',\n",
       " 'Income',\n",
       " 'LoanAmount',\n",
       " 'CreditScore',\n",
       " 'MonthsEmployed',\n",
       " 'NumCreditLines',\n",
       " 'InterestRate',\n",
       " 'LoanTerm',\n",
       " 'DTIRatio']"
      ]
     },
     "execution_count": 44,
     "metadata": {},
     "output_type": "execute_result"
    }
   ],
   "source": [
    "features_dict[\"numeric_features\"]"
   ]
  },
  {
   "cell_type": "code",
   "execution_count": null,
   "id": "040900f1-1658-4fee-9d0d-1f5525606a73",
   "metadata": {},
   "outputs": [],
   "source": []
  },
  {
   "cell_type": "code",
   "execution_count": null,
   "id": "0cfc990e-9e69-4279-9597-451353a75c6b",
   "metadata": {},
   "outputs": [
    {
     "name": "stderr",
     "output_type": "stream",
     "text": [
      "[I 2025-07-09 22:50:26,825] A new study created in memory with name: no-name-5758b429-5fc6-463a-9295-9c8d0ea0bd8b\n",
      "[I 2025-07-09 22:51:17,320] Trial 0 finished with value: 0.3305265401833298 and parameters: {'model_type': 'LogReg', 'C': 0.11905237167991027, 'penalty': 'l1'}. Best is trial 0 with value: 0.3305265401833298.\n",
      "[I 2025-07-09 22:52:19,457] Trial 1 finished with value: 0.10176488801733925 and parameters: {'model_type': 'XGB', 'n_estimators': 210, 'max_depth': 8, 'learning_rate': 0.030635703187125704}. Best is trial 0 with value: 0.3305265401833298.\n",
      "[I 2025-07-09 22:59:31,560] Trial 2 finished with value: 0.02675443252999257 and parameters: {'model_type': 'RF', 'n_estimators': 228, 'max_depth': 9}. Best is trial 0 with value: 0.3305265401833298.\n",
      "[I 2025-07-09 23:00:33,402] Trial 3 finished with value: 0.33050847457627125 and parameters: {'model_type': 'LogReg', 'C': 8.842766039160397, 'penalty': 'l1'}. Best is trial 0 with value: 0.3305265401833298.\n",
      "[I 2025-07-09 23:01:37,683] Trial 4 finished with value: 0.11344623546215059 and parameters: {'model_type': 'XGB', 'n_estimators': 192, 'max_depth': 6, 'learning_rate': 0.06074453958264321}. Best is trial 0 with value: 0.3305265401833298.\n",
      "[I 2025-07-09 23:02:50,632] Trial 5 finished with value: 0.11822059719683121 and parameters: {'model_type': 'XGB', 'n_estimators': 271, 'max_depth': 6, 'learning_rate': 0.05388240188071524}. Best is trial 0 with value: 0.3305265401833298.\n",
      "[I 2025-07-09 23:11:13,454] Trial 6 finished with value: 0.011672723268362516 and parameters: {'model_type': 'RF', 'n_estimators': 239, 'max_depth': 10}. Best is trial 0 with value: 0.3305265401833298.\n",
      "[I 2025-07-09 23:12:13,890] Trial 7 finished with value: 0.1192455891299939 and parameters: {'model_type': 'XGB', 'n_estimators': 167, 'max_depth': 6, 'learning_rate': 0.08288900166363174}. Best is trial 0 with value: 0.3305265401833298.\n",
      "[I 2025-07-09 23:13:23,249] Trial 8 finished with value: 0.33051773295318293 and parameters: {'model_type': 'LogReg', 'C': 28.735560828740756, 'penalty': 'l1'}. Best is trial 0 with value: 0.3305265401833298.\n"
     ]
    }
   ],
   "source": [
    "# Optuna objective\n",
    "def objective(trial):\n",
    "    model_type = trial.suggest_categorical(\"model_type\", [\"LogReg\", \"RF\", \"XGB\"])\n",
    "\n",
    "    if model_type == \"LogReg\":\n",
    "        C = trial.suggest_loguniform(\"C\", 1e-4, 1e2)\n",
    "        penalty = trial.suggest_categorical(\"penalty\", [\"l1\", \"l2\"])\n",
    "        solver = \"liblinear\" if penalty == \"l1\" else \"lbfgs\"\n",
    "        clf = LogisticRegression(C=C, penalty=penalty, solver=solver, max_iter=1000)\n",
    "    elif model_type == \"RF\":\n",
    "        n_estimators = trial.suggest_int(\"n_estimators\", 100, 300)\n",
    "        max_depth = trial.suggest_int(\"max_depth\", 3, 10)\n",
    "        clf = RandomForestClassifier(n_estimators=n_estimators, max_depth=max_depth, random_state=42)\n",
    "    else:  # XGB\n",
    "        n_estimators = trial.suggest_int(\"n_estimators\", 100, 300)\n",
    "        max_depth = trial.suggest_int(\"max_depth\", 3, 10)\n",
    "        learning_rate = trial.suggest_loguniform(\"learning_rate\", 0.01, 0.3)\n",
    "        clf = xgb.XGBClassifier(n_estimators=n_estimators, max_depth=max_depth,\n",
    "                                learning_rate=learning_rate, eval_metric='logloss', use_label_encoder=False)\n",
    "\n",
    "    pipeline = imPipeline([\n",
    "        (\"encoding\", encoding),\n",
    "        (\"adasyn\", ADASYN(random_state=42)),\n",
    "        (\"scaling\", scaling),\n",
    "        (\"classifier\", clf)\n",
    "    ])\n",
    "\n",
    "    pipeline.fit(X_train, y_train)\n",
    "    y_pred = pipeline.predict(X_test)\n",
    "\n",
    "    prec = precision_score(y_test, y_pred)\n",
    "    rec = recall_score(y_test, y_pred)\n",
    "    f1 = f1_score(y_test, y_pred)\n",
    "\n",
    "    trial.set_user_attr(\"precision\", prec)\n",
    "    trial.set_user_attr(\"recall\", rec)\n",
    "\n",
    "    return f1\n",
    "\n",
    "# 6. Run study\n",
    "study = optuna.create_study(direction=\"maximize\")\n",
    "study.optimize(objective, n_trials=30)\n",
    "\n",
    "# 7. Show best params\n",
    "print(\"Best params:\", study.best_params)\n",
    "\n",
    "# 8. Train best pipeline again with predict_proba\n",
    "best_model_type = study.best_params[\"model_type\"]\n",
    "\n",
    "if best_model_type == \"LogReg\":\n",
    "    C = study.best_params[\"C\"]\n",
    "    penalty = study.best_params[\"penalty\"]\n",
    "    solver = \"liblinear\" if penalty == \"l1\" else \"lbfgs\"\n",
    "    best_clf = LogisticRegression(C=C, penalty=penalty, solver=solver, max_iter=1000)\n",
    "elif best_model_type == \"RF\":\n",
    "    best_clf = RandomForestClassifier(\n",
    "        n_estimators=study.best_params[\"n_estimators\"],\n",
    "        max_depth=study.best_params[\"max_depth\"],\n",
    "        random_state=42\n",
    "    )\n",
    "else:\n",
    "    best_clf = xgb.XGBClassifier(\n",
    "        n_estimators=study.best_params[\"n_estimators\"],\n",
    "        max_depth=study.best_params[\"max_depth\"],\n",
    "        learning_rate=study.best_params[\"learning_rate\"],\n",
    "        eval_metric='logloss',\n",
    "        use_label_encoder=False\n",
    "    )\n",
    "\n",
    "final_pipeline = imPipeline([\n",
    "    (\"encoding\", encoding),\n",
    "    (\"adasyn\", ADASYN(random_state=42)),\n",
    "    (\"scaling\", scaling),\n",
    "    (\"classifier\", best_clf)\n",
    "])\n",
    "\n",
    "final_pipeline.fit(X_train, y_train)"
   ]
  },
  {
   "cell_type": "code",
   "execution_count": 2,
   "id": "6aa8cf82-376e-4246-af9e-ae3a0b8a6a13",
   "metadata": {},
   "outputs": [],
   "source": [
    "# Note:\n",
    "# 1. we could not use feature names in scaling bcz after column transformer we get numpy arrays,\n",
    "# 2. our logic of scaling by slice is also wrong bcz our feature columns will append at last of our data.\n",
    "# 3. we will putt numeric features at start of column transformer, which have put"
   ]
  },
  {
   "cell_type": "code",
   "execution_count": null,
   "id": "b5db4ea0-e9f2-4aa2-9698-fc6bf3e18b2f",
   "metadata": {},
   "outputs": [],
   "source": [
    "# study.trials_dataframe()"
   ]
  }
 ],
 "metadata": {
  "kernelspec": {
   "display_name": "Python 3 (ipykernel)",
   "language": "python",
   "name": "python3"
  },
  "language_info": {
   "codemirror_mode": {
    "name": "ipython",
    "version": 3
   },
   "file_extension": ".py",
   "mimetype": "text/x-python",
   "name": "python",
   "nbconvert_exporter": "python",
   "pygments_lexer": "ipython3",
   "version": "3.11.7"
  },
  "widgets": {
   "application/vnd.jupyter.widget-state+json": {
    "state": {},
    "version_major": 2,
    "version_minor": 0
   }
  }
 },
 "nbformat": 4,
 "nbformat_minor": 5
}
